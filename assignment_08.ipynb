{
 "cells": [
  {
   "cell_type": "code",
   "execution_count": 1,
   "id": "0cc7e6ee-672c-4382-ae37-d6b525d4d4a0",
   "metadata": {},
   "outputs": [
    {
     "name": "stdout",
     "output_type": "stream",
     "text": [
      "8th Feb :- ASSIGNMENT_08\n"
     ]
    }
   ],
   "source": [
    "print(\"8th Feb :- ASSIGNMENT_08\")"
   ]
  },
  {
   "cell_type": "code",
   "execution_count": 4,
   "id": "f4984c93-e335-414c-b220-a16176779447",
   "metadata": {},
   "outputs": [
    {
     "name": "stdout",
     "output_type": "stream",
     "text": [
      "Q_1_ANS :- Abstraction in python is defined as a process of handling complexity by hiding unnecessary information from the user. This is one of the core concepts of object-oriented programming (OOP) languages. That enables the user to implement even more complex logic on top of the provided abstraction without understanding or even thinking about all the hidden background/back-end complexity.\n",
      "EX :-\n"
     ]
    }
   ],
   "source": [
    "print('Q_1_ANS :- Abstraction in python is defined as a process of handling complexity by hiding unnecessary information from the user. This is one of the core concepts of object-oriented programming (OOP) languages. That enables the user to implement even more complex logic on top of the provided abstraction without understanding or even thinking about all the hidden background/back-end complexity.')\n",
    "print(\"EX :-\")\n",
    "\n",
    "import abc\n",
    " \n",
    "class Polygon:\n",
    " \n",
    "    @abc.abstractmethod\n",
    "    def noofsides(self):\n",
    "        pass \n"
   ]
  },
  {
   "cell_type": "code",
   "execution_count": 5,
   "id": "e275956e-9ae9-427c-97c4-9cfcc99e4098",
   "metadata": {},
   "outputs": [],
   "source": [
    "class Triangle(Polygon):\n",
    " \n",
    "    def noofsides(self):\n",
    "        print(\"I have 3 sides\")"
   ]
  },
  {
   "cell_type": "code",
   "execution_count": 6,
   "id": "4d14d768-0a0d-4b64-a4e2-93a507eea616",
   "metadata": {},
   "outputs": [],
   "source": [
    "class Pentagon(Polygon):\n",
    " \n",
    "    def noofsides(self):\n",
    "        print(\"I have 5 sides\")"
   ]
  },
  {
   "cell_type": "code",
   "execution_count": 8,
   "id": "fccfac86-788c-4c61-81ea-bf7e643279b3",
   "metadata": {},
   "outputs": [
    {
     "name": "stdout",
     "output_type": "stream",
     "text": [
      "I have 3 sides\n",
      "I have 5 sides\n"
     ]
    }
   ],
   "source": [
    "R = Triangle()\n",
    "R.noofsides()\n",
    " \n",
    "R = Pentagon()\n",
    "R.noofsides()"
   ]
  },
  {
   "cell_type": "code",
   "execution_count": 10,
   "id": "19da7793-c041-412c-9dec-21896d4e46c8",
   "metadata": {},
   "outputs": [
    {
     "name": "stdout",
     "output_type": "stream",
     "text": [
      "Q_2_ANS :- 1. Abstraction :- Abstraction in python is defined as a process of handling complexity by hiding unnecessary information from the user. This is one of the core concepts of object-oriented programming (OOP) languages.                         2. Encapsulation :- Encapsulation is a mechanism of wrapping the data (variables) and code acting on the data (methods) together as a single unit. In encapsulation, the variables of a class will be hidden from other classes, and can be accessed only through the methods of their current class. p1. i dont want to get access to user to  direct change and manupulate variable data. p2. i have to hide variable and variable in data to user in Encapsulation. p3. we can create hide variable / private variable using (__) dubble underscore.\n",
      "EX :- \n"
     ]
    }
   ],
   "source": [
    "print('Q_2_ANS :- 1. Abstraction :- Abstraction in python is defined as a process of handling complexity by hiding unnecessary information from the user. This is one of the core concepts of object-oriented programming (OOP) languages.                         2. Encapsulation :- Encapsulation is a mechanism of wrapping the data (variables) and code acting on the data (methods) together as a single unit. In encapsulation, the variables of a class will be hidden from other classes, and can be accessed only through the methods of their current class. p1. i dont want to get access to user to  direct change and manupulate variable data. p2. i have to hide variable and variable in data to user in Encapsulation. p3. we can create hide variable / private variable using (__) dubble underscore.')\n",
    "print(\"EX :- \")\n"
   ]
  },
  {
   "cell_type": "code",
   "execution_count": 11,
   "id": "6f6f9367-7b3f-4a1b-bd0b-078df8354418",
   "metadata": {},
   "outputs": [],
   "source": [
    "class car:\n",
    "    def __init__(self,year,make,model,speed) :\n",
    "        self.__year = year\n",
    "        self.__make = make\n",
    "        self.__model = model\n",
    "        self.__speed = 0\n",
    "\n",
    "    def set_speed(self,speed):\n",
    "        self.__speed = 0 if speed < 0 else speed\n",
    "\n",
    "    def get_speed(self):\n",
    "        return self.__speed"
   ]
  },
  {
   "cell_type": "code",
   "execution_count": 12,
   "id": "05ebeca8-c5fc-424a-acdb-47e22cd8462b",
   "metadata": {},
   "outputs": [],
   "source": [
    "c = car(2023,\"japan\",\"fortuner\",8)"
   ]
  },
  {
   "cell_type": "code",
   "execution_count": 13,
   "id": "4a9750c0-4a7a-4448-b882-7526651c90c5",
   "metadata": {},
   "outputs": [
    {
     "data": {
      "text/plain": [
       "'japan'"
      ]
     },
     "execution_count": 13,
     "metadata": {},
     "output_type": "execute_result"
    }
   ],
   "source": [
    "c._car__make"
   ]
  },
  {
   "cell_type": "code",
   "execution_count": 15,
   "id": "cb78aab3-eb13-4625-8f8e-c0cad4796e58",
   "metadata": {},
   "outputs": [
    {
     "data": {
      "text/plain": [
       "2023"
      ]
     },
     "execution_count": 15,
     "metadata": {},
     "output_type": "execute_result"
    }
   ],
   "source": [
    "c._car__year"
   ]
  },
  {
   "cell_type": "code",
   "execution_count": 16,
   "id": "fe53cd86-95fd-4633-94a6-0c506b6434d8",
   "metadata": {},
   "outputs": [],
   "source": [
    "c.set_speed(15)"
   ]
  },
  {
   "cell_type": "code",
   "execution_count": 17,
   "id": "c873c208-ae44-4063-93da-3ed8cacdb793",
   "metadata": {},
   "outputs": [
    {
     "data": {
      "text/plain": [
       "15"
      ]
     },
     "execution_count": 17,
     "metadata": {},
     "output_type": "execute_result"
    }
   ],
   "source": [
    "c.get_speed()"
   ]
  },
  {
   "cell_type": "code",
   "execution_count": 20,
   "id": "ee71d6c6-1c44-43cb-ac28-8832851cbb02",
   "metadata": {},
   "outputs": [
    {
     "name": "stdout",
     "output_type": "stream",
     "text": [
      "Q_2_ANS :- Source code: Lib/abc.py. This module provides the infrastructure for defining abstract base classes (ABCs) in Python, as outlined in PEP 3119; see the PEP for why this was added to Python. (See also PEP 3141 and the numbers module regarding a type hierarchy for numbers based on ABCs.)                                                                            Use of ABC Module :- This module provides the infrastructure for defining abstract base classes (ABCs) in Python, as outlined in PEP 3119; see the PEP for why this was added to Python. (See also PEP 3141 and the numbers module regarding a type hierarchy for numbers based on ABCs.)\n"
     ]
    }
   ],
   "source": [
    "print('Q_3_ANS :- Source code: Lib/abc.py. This module provides the infrastructure for defining abstract base classes (ABCs) in Python, as outlined in PEP 3119; see the PEP for why this was added to Python. (See also PEP 3141 and the numbers module regarding a type hierarchy for numbers based on ABCs.)                                                                            Use of ABC Module :- This module provides the infrastructure for defining abstract base classes (ABCs) in Python, as outlined in PEP 3119; see the PEP for why this was added to Python. (See also PEP 3141 and the numbers module regarding a type hierarchy for numbers based on ABCs.)')"
   ]
  },
  {
   "cell_type": "code",
   "execution_count": 21,
   "id": "669b3ff9-4e61-419f-aaef-b055fc492421",
   "metadata": {},
   "outputs": [
    {
     "name": "stdout",
     "output_type": "stream",
     "text": [
      "Q_4_ANS :- In Python, abstraction can be achieved by having/using abstract classes and methods in our programs. Understanding Abstract Methods and Classes: An abstract method is a method that is declared, but does not contain implementation. \n"
     ]
    }
   ],
   "source": [
    "print('Q_4_ANS :- In Python, abstraction can be achieved by having/using abstract classes and methods in our programs. Understanding Abstract Methods and Classes: An abstract method is a method that is declared, but does not contain implementation. ')"
   ]
  },
  {
   "cell_type": "code",
   "execution_count": 22,
   "id": "97a853bc-7ee0-4468-9ed2-41f923993351",
   "metadata": {},
   "outputs": [
    {
     "name": "stdout",
     "output_type": "stream",
     "text": [
      "Q_5_ANS :- Abstract classes cannot be instantiated, but they can be subclassed. When an abstract class is subclassed, the subclass usually provides implementations for all of the abstract methods in its parent class. However, if it does not, then the subclass must also be declared abstract .\n"
     ]
    }
   ],
   "source": [
    "print('Q_5_ANS :- Abstract classes cannot be instantiated, but they can be subclassed. When an abstract class is subclassed, the subclass usually provides implementations for all of the abstract methods in its parent class. However, if it does not, then the subclass must also be declared abstract .')"
   ]
  },
  {
   "cell_type": "code",
   "execution_count": null,
   "id": "11d7eebd-d0e2-49f5-94ee-e1afb0d79eee",
   "metadata": {},
   "outputs": [],
   "source": []
  }
 ],
 "metadata": {
  "kernelspec": {
   "display_name": "Python 3 (ipykernel)",
   "language": "python",
   "name": "python3"
  },
  "language_info": {
   "codemirror_mode": {
    "name": "ipython",
    "version": 3
   },
   "file_extension": ".py",
   "mimetype": "text/x-python",
   "name": "python",
   "nbconvert_exporter": "python",
   "pygments_lexer": "ipython3",
   "version": "3.10.6"
  }
 },
 "nbformat": 4,
 "nbformat_minor": 5
}
